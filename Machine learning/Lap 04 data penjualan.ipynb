{
 "cells": [
  {
   "cell_type": "markdown",
   "id": "c85e7877",
   "metadata": {},
   "source": [
    "### RAFIDAH SHAFA ARIZA RAMADHAN\n",
    "### 202131139\n",
    "### B MACHINE LEARNING\n",
    "### salary dataset"
   ]
  },
  {
   "cell_type": "markdown",
   "id": "925c09a3",
   "metadata": {},
   "source": [
    "## IMPORT LIBRARY"
   ]
  },
  {
   "cell_type": "code",
   "execution_count": 1,
   "id": "45198760",
   "metadata": {},
   "outputs": [],
   "source": [
    "import numpy as np\n",
    "import pandas as pd\n",
    "from matplotlib import pyplot as plt\n",
    "from sklearn.linear_model import LinearRegression"
   ]
  },
  {
   "cell_type": "markdown",
   "id": "89d38694",
   "metadata": {},
   "source": [
    "## MEMBACA DATASET"
   ]
  },
  {
   "cell_type": "code",
   "execution_count": 13,
   "id": "210836eb",
   "metadata": {},
   "outputs": [
    {
     "data": {
      "text/html": [
       "<div>\n",
       "<style scoped>\n",
       "    .dataframe tbody tr th:only-of-type {\n",
       "        vertical-align: middle;\n",
       "    }\n",
       "\n",
       "    .dataframe tbody tr th {\n",
       "        vertical-align: top;\n",
       "    }\n",
       "\n",
       "    .dataframe thead th {\n",
       "        text-align: right;\n",
       "    }\n",
       "</style>\n",
       "<table border=\"1\" class=\"dataframe\">\n",
       "  <thead>\n",
       "    <tr style=\"text-align: right;\">\n",
       "      <th></th>\n",
       "      <th>promosi</th>\n",
       "      <th>penjualan</th>\n",
       "    </tr>\n",
       "  </thead>\n",
       "  <tbody>\n",
       "    <tr>\n",
       "      <th>0</th>\n",
       "      <td>25</td>\n",
       "      <td>100</td>\n",
       "    </tr>\n",
       "    <tr>\n",
       "      <th>1</th>\n",
       "      <td>27</td>\n",
       "      <td>105</td>\n",
       "    </tr>\n",
       "    <tr>\n",
       "      <th>2</th>\n",
       "      <td>29</td>\n",
       "      <td>108</td>\n",
       "    </tr>\n",
       "    <tr>\n",
       "      <th>3</th>\n",
       "      <td>30</td>\n",
       "      <td>109</td>\n",
       "    </tr>\n",
       "    <tr>\n",
       "      <th>4</th>\n",
       "      <td>35</td>\n",
       "      <td>120</td>\n",
       "    </tr>\n",
       "    <tr>\n",
       "      <th>5</th>\n",
       "      <td>50</td>\n",
       "      <td>145</td>\n",
       "    </tr>\n",
       "    <tr>\n",
       "      <th>6</th>\n",
       "      <td>55</td>\n",
       "      <td>143</td>\n",
       "    </tr>\n",
       "    <tr>\n",
       "      <th>7</th>\n",
       "      <td>60</td>\n",
       "      <td>150</td>\n",
       "    </tr>\n",
       "    <tr>\n",
       "      <th>8</th>\n",
       "      <td>63</td>\n",
       "      <td>154</td>\n",
       "    </tr>\n",
       "    <tr>\n",
       "      <th>9</th>\n",
       "      <td>65</td>\n",
       "      <td>157</td>\n",
       "    </tr>\n",
       "    <tr>\n",
       "      <th>10</th>\n",
       "      <td>70</td>\n",
       "      <td>161</td>\n",
       "    </tr>\n",
       "    <tr>\n",
       "      <th>11</th>\n",
       "      <td>71</td>\n",
       "      <td>170</td>\n",
       "    </tr>\n",
       "    <tr>\n",
       "      <th>12</th>\n",
       "      <td>73</td>\n",
       "      <td>174</td>\n",
       "    </tr>\n",
       "    <tr>\n",
       "      <th>13</th>\n",
       "      <td>75</td>\n",
       "      <td>176</td>\n",
       "    </tr>\n",
       "    <tr>\n",
       "      <th>14</th>\n",
       "      <td>80</td>\n",
       "      <td>180</td>\n",
       "    </tr>\n",
       "  </tbody>\n",
       "</table>\n",
       "</div>"
      ],
      "text/plain": [
       "    promosi  penjualan\n",
       "0        25        100\n",
       "1        27        105\n",
       "2        29        108\n",
       "3        30        109\n",
       "4        35        120\n",
       "5        50        145\n",
       "6        55        143\n",
       "7        60        150\n",
       "8        63        154\n",
       "9        65        157\n",
       "10       70        161\n",
       "11       71        170\n",
       "12       73        174\n",
       "13       75        176\n",
       "14       80        180"
      ]
     },
     "execution_count": 13,
     "metadata": {},
     "output_type": "execute_result"
    }
   ],
   "source": [
    "data = pd.read_csv('data_penjualan.csv', delimiter = ';')\n",
    "data "
   ]
  },
  {
   "cell_type": "markdown",
   "id": "ede934b6",
   "metadata": {},
   "source": [
    "Disini saya menggunakan dataset data_penjualan.csv"
   ]
  },
  {
   "cell_type": "code",
   "execution_count": 7,
   "id": "99385413",
   "metadata": {},
   "outputs": [],
   "source": [
    "x_train = data['promosi'].values[:,np.newaxis]\n",
    "y_train = data['penjualan'].values"
   ]
  },
  {
   "cell_type": "code",
   "execution_count": 8,
   "id": "f4d96b39",
   "metadata": {},
   "outputs": [
    {
     "data": {
      "image/png": "[encoded data removed]",
      "text/plain": [
       "<Figure size 640x480 with 1 Axes>"
      ]
     },
     "metadata": {},
     "output_type": "display_data"
    }
   ],
   "source": [
    "plt.scatter(data.promosi, data.penjualan)\n",
    "plt.xlabel('promosi')\n",
    "plt.ylabel('penjualan')\n",
    "plt.title('Plot Data promosi dan penjualan')\n",
    "plt.show()"
   ]
  },
  {
   "cell_type": "code",
   "execution_count": 9,
   "id": "750f3c7c",
   "metadata": {},
   "outputs": [],
   "source": [
    "promosi_baru = ([20], [100])"
   ]
  },
  {
   "cell_type": "code",
   "execution_count": null,
   "id": "a62a5ffb",
   "metadata": {},
   "outputs": [],
   "source": [
    "Di sini saya memasukkan prediksi sesuai dengan yang di perintahkan "
   ]
  },
  {
   "cell_type": "code",
   "execution_count": 10,
   "id": "adcabec9",
   "metadata": {},
   "outputs": [
    {
     "name": "stdout",
     "output_type": "stream",
     "text": [
      "[ 95.38781949 208.95989944]\n"
     ]
    }
   ],
   "source": [
    "from sklearn.linear_model import LinearRegression\n",
    "\n",
    "model = LinearRegression()\n",
    "model.fit(x_train, y_train)\n",
    "\n",
    "prediksi_baru = model.predict(promosi_baru)\n",
    "print(prediksi_baru)"
   ]
  },
  {
   "cell_type": "markdown",
   "id": "32e12fea",
   "metadata": {},
   "source": [
    "## VISUALISASI DATA"
   ]
  },
  {
   "cell_type": "code",
   "execution_count": 11,
   "id": "00e16d03",
   "metadata": {},
   "outputs": [
    {
     "data": {
      "image/png": "[encoded data removed]",
      "text/plain": [
       "<Figure size 640x480 with 1 Axes>"
      ]
     },
     "metadata": {},
     "output_type": "display_data"
    }
   ],
   "source": [
    "pb = model.predict(x_train)\n",
    "plt.scatter(data.promosi, data.penjualan)\n",
    "plt.plot(x_train, pb, color =\"red\", linewidth = 1)\n",
    "plt.xlabel(\"promosi\")\n",
    "plt.ylabel(\"penjualan\")\n",
    "plt.title('plot promosi dan penjualan')\n",
    "plt.show()"
   ]
  },
  {
   "cell_type": "code",
   "execution_count": 12,
   "id": "dd4818e3",
   "metadata": {},
   "outputs": [
    {
     "name": "stdout",
     "output_type": "stream",
     "text": [
      "-1000.4975064301495\n"
     ]
    }
   ],
   "source": [
    "from sklearn.metrics import r2_score\n",
    "akurasi = r2_score(y_train,x_train)\n",
    "print (akurasi*100)"
   ]
  },
  {
   "cell_type": "markdown",
   "id": "d6aae167",
   "metadata": {},
   "source": [
    "data tidak akurat di karenakan data yang sedikit"
   ]
  }
 ],
 "metadata": {
  "kernelspec": {
   "display_name": "Python 3 (ipykernel)",
   "language": "python",
   "name": "python3"
  },
  "language_info": {
   "codemirror_mode": {
    "name": "ipython",
    "version": 3
   },
   "file_extension": ".py",
   "mimetype": "text/x-python",
   "name": "python",
   "nbconvert_exporter": "python",
   "pygments_lexer": "ipython3",
   "version": "3.11.3"
  }
 },
 "nbformat": 4,
 "nbformat_minor": 5
}
